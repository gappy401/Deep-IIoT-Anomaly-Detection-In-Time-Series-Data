{
 "cells": [
  {
   "cell_type": "markdown",
   "metadata": {},
   "source": [
    "## This notebook implements the LSTM-CNN model with attention mechanism with and without gradient compression.\n"
   ]
  },
  {
   "cell_type": "markdown",
   "metadata": {},
   "source": [
    "####  `load_and_preprocess_data`  function reads the dataset from a specified CSV file and cleans it by removing any rows with missing values. It's the first step in preparing the data for analysis, ensuring that the dataset is complete and ready for further processing.\n",
    "\n",
    "\n",
    "#### `prepare_features_and_labels`  function selects the relevant features (input variables) and the target label (output variable) from the dataset. It transforms the data into a format that can be fed into a machine learning model, separating the input features (`X`) from the target labels (`y`).\n"
   ]
  },
  {
   "cell_type": "code",
   "execution_count": null,
   "metadata": {},
   "outputs": [],
   "source": [
    "import numpy as np\n",
    "import pandas as pd\n",
    "import matplotlib.pyplot as plt\n",
    "from tensorflow.keras.models import Model\n",
    "from tensorflow.keras.layers import Input, LSTM, Conv1D, MaxPooling1D, Dense, Dropout, Multiply\n",
    "from tensorflow.keras.optimizers import Adam\n",
    "from sklearn.utils import shuffle\n",
    "from sklearn.metrics import classification_report, accuracy_score\n",
    "from tqdm import tqdm\n",
    "import tensorflow as tf\n",
    "import time\n",
    "\n",
    "# Data Preprocessing Functions\n",
    "def load_and_preprocess_data(file_path):\n",
    "    \"\"\"_summary_\n",
    "\n",
    "    Args:\n",
    "        file_path (_type_): _description_\n",
    "\n",
    "    Returns:\n",
    "        _type_: _description_\n",
    "    \"\"\"\n",
    "    data = pd.read_csv(file_path)\n",
    "    data = data.dropna()  \n",
    "    return data\n",
    "\n",
    "def prepare_features_and_labels(data):\n",
    "    \"\"\"_summary_\n",
    "\n",
    "    Args:\n",
    "        data (_type_): _description_\n",
    "\n",
    "    Returns:\n",
    "        _type_: _description_\n",
    "    \"\"\"\n",
    "    features = ['TP2', 'DV_pressure', 'Oil_temperature', 'Motor_current', 'DV_eletric', 'Towers', 'LPS', 'Oil_level', 'Caudal_impulses']\n",
    "    target = 'class'\n",
    "    X = data[features].values\n",
    "    y = data[target].values\n",
    "    return X, y\n"
   ]
  },
  {
   "cell_type": "markdown",
   "metadata": {},
   "source": [
    "#### This funtion balances classes as the data is very imbalanced with less than 10% anomaly classes (1)\n"
   ]
  },
  {
   "cell_type": "code",
   "execution_count": null,
   "metadata": {},
   "outputs": [],
   "source": [
    "def balance_and_sample(X, y, sample_fraction=0.4):\n",
    "    \"\"\"\n",
    "    Balances and samples the dataset.\n",
    "\n",
    "    Args:\n",
    "        X (numpy array): Feature matrix.\n",
    "        y (numpy array): Labels array.\n",
    "        sample_fraction (float, optional): Fraction of the dataset to sample. Defaults to 0.4.\n",
    "\n",
    "    Returns:\n",
    "        tuple: Balanced and sampled feature matrix (X_balanced) and labels (y_balanced).\n",
    "    \"\"\"\n",
    "    from sklearn.utils import shuffle\n",
    "    import numpy as np\n",
    "\n",
    "    X, y = shuffle(X, y, random_state=42)  # Shuffle data\n",
    "    sample_size = int(sample_fraction * len(X))\n",
    "    X_sample, y_sample = X[:sample_size], y[:sample_size]\n",
    "\n",
    "    classes = np.unique(y_sample)\n",
    "    max_samples = max(np.bincount(y_sample))\n",
    "\n",
    "    X_balanced = []\n",
    "    y_balanced = []\n",
    "\n",
    "    for cls in classes:\n",
    "        cls_indices = np.where(y_sample == cls)[0]\n",
    "        cls_samples = cls_indices[:min(len(cls_indices), max_samples)]\n",
    "        X_balanced.append(X_sample[cls_samples])\n",
    "        y_balanced.append(y_sample[cls_samples])\n",
    "\n",
    "    X_balanced = np.vstack(X_balanced)\n",
    "    y_balanced = np.hstack(y_balanced)\n",
    "\n",
    "    return X_balanced, y_balanced"
   ]
  },
  {
   "cell_type": "code",
   "execution_count": null,
   "metadata": {},
   "outputs": [],
   "source": [
    "def preprocess_data(data):\n",
    "    \"\"\"_summary_\n",
    "\n",
    "    Args:\n",
    "        data (_type_): _description_\n",
    "\n",
    "    Raises:\n",
    "        ValueError: _description_\n",
    "        ValueError: _description_\n",
    "        ValueError: _description_\n",
    "\n",
    "    Returns:\n",
    "        _type_: _description_\n",
    "    \"\"\"\n",
    "    if 'timestamp' not in data.columns or 'class' not in data.columns:\n",
    "        raise ValueError(\"Data must contain 'timestamp' and 'class' columns.\")\n",
    "    \n",
    "    data['timestamp'] = pd.to_datetime(data['timestamp'], errors='coerce')\n",
    "    data = data.dropna(subset=['timestamp'])\n",
    "    data['month'] = data['timestamp'].dt.to_period('M')\n",
    "    months = data['month'].astype(str).unique()\n",
    "    \n",
    "    if len(months) < 4:\n",
    "        raise ValueError(\"Not enough distinct months to split into global and client data.\")\n",
    "    \n",
    "    months.sort()\n",
    "    first_two_months = months[:2]\n",
    "    last_two_months = months[-2:]\n",
    "    \n",
    "    global_data = data[data['month'].astype(str).isin(first_two_months)]\n",
    "    client1_data = data[data['month'].astype(str) == last_two_months[0]]\n",
    "    client2_data = data[data['month'].astype(str) == last_two_months[1]]\n",
    "    \n",
    "    if global_data.empty or client1_data.empty or client2_data.empty:\n",
    "        raise ValueError(\"One or more of the filtered datasets are empty.\")\n",
    "    \n",
    "    return global_data, client1_data, client2_data"
   ]
  },
  {
   "cell_type": "markdown",
   "metadata": {},
   "source": [
    "#### Compressing gradients based on threshold (refer to the markdown with interpretation from the paper).\n",
    "\n",
    "The gradient compression method emphasizes **sparsification**, where only the top 0.1% of gradients with the largest absolute values are transmitted, effectively zeroing out 99.9% of the gradients. This approach significantly reduces the amount of data exchanged between edge devices and the central server, enhancing communication efficiency in distributed machine learning systems. By focusing on the most significant gradient updates, this method ensures that essential information is preserved while minimizing the data overhead, making it especially effective for edge computing environments with limited bandwidth.\n"
   ]
  },
  {
   "cell_type": "code",
   "execution_count": 3,
   "metadata": {},
   "outputs": [],
   "source": [
    "def compress_gradients(gradients):\n",
    "    \"\"\"Applies gradient sparsification by keeping only the top 0.1% of the most significant gradients.\"\"\"\n",
    "    compressed_gradients = []\n",
    "    for grad in gradients:\n",
    "        # Flatten the gradient array to apply sparsification\n",
    "        flat_grad = tf.reshape(grad, [-1])\n",
    "        \n",
    "        # Calculate the threshold for top 0.1% gradients\n",
    "        # `tf.abs(flat_grad)` gives absolute values of gradients, then we use `tf.nn.top_k` to find the threshold\n",
    "        k = int(0.001 * tf.size(flat_grad).numpy())  # 0.1% of the total number of gradients\n",
    "        threshold_value = tf.nn.top_k(tf.abs(flat_grad), k=k).values[-1]  # Get the smallest value in the top 0.1%\n",
    "        \n",
    "        # Sparsify the gradients: zero out values below the threshold\n",
    "        sparsified_grad = tf.where(tf.abs(flat_grad) >= threshold_value, flat_grad, tf.zeros_like(flat_grad))\n",
    "        \n",
    "        # Reshape back to the original gradient shape\n",
    "        sparsified_grad = tf.reshape(sparsified_grad, tf.shape(grad))\n",
    "        \n",
    "        compressed_gradients.append(sparsified_grad)\n",
    "    \n",
    "    return compressed_gradients\n"
   ]
  },
  {
   "cell_type": "markdown",
   "metadata": {},
   "source": [
    "`create_cnn_lstm_attention_model`\n",
    "\n",
    "This function defines and returns a neural network model that combines Convolutional Neural Network (CNN) and Long Short-Term Memory (LSTM) layers, with an added attention mechanism.\n",
    "\n",
    "- **CNN Layers**: The initial layers apply convolutional operations to extract spatial features from the input data. This is followed by a pooling layer to reduce the spatial dimensions and a dropout layer to prevent overfitting.\n",
    "\n",
    "- **LSTM Layers**: The next layer processes the temporal dependencies in the data. By setting `return_sequences=True`, it returns the full sequence of outputs for further processing.\n",
    "\n",
    "- **Attention Mechanism**: An attention layer is applied to focus on the most relevant parts of the sequence data, enhancing the model's ability to capture important temporal patterns.\n",
    "\n",
    "- **Final Layers**: The output of the attention mechanism is passed through another LSTM layer, followed by a dense layer for further processing. The final output layer uses a sigmoid activation function to predict the probability of the target class.\n",
    "\n",
    "The model is compiled using the Adam optimizer and binary cross-entropy loss, making it suitable for binary classification tasks.\n",
    "\n"
   ]
  },
  {
   "cell_type": "code",
   "execution_count": null,
   "metadata": {},
   "outputs": [],
   "source": [
    "# Create Models\n",
    "def create_cnn_lstm_attention_model(input_shape):\n",
    "    \"\"\"Create a CNN-LSTM model with attention mechanism.\"\"\"\n",
    "    inputs = Input(shape=input_shape)\n",
    "    \n",
    "    # CNN layers\n",
    "    x = Conv1D(filters=64, kernel_size=3, activation='relu', padding='same')(inputs)\n",
    "    x = MaxPooling1D(pool_size=2, padding='same')(x)\n",
    "    x = Dropout(0.2)(x)\n",
    "    \n",
    "    # LSTM layers\n",
    "    x = LSTM(50, return_sequences=True)(x)\n",
    "    \n",
    "    # Attention Mechanism\n",
    "    attention_probs = Dense(x.shape[-1], activation='softmax')(x)\n",
    "    attention_mul = Multiply()([x, attention_probs])\n",
    "    \n",
    "    x = LSTM(50)(attention_mul)\n",
    "    x = Dense(50, activation='relu')(x)\n",
    "    x = Dropout(0.2)(x)\n",
    "    outputs = Dense(1, activation='sigmoid')(x)\n",
    "    \n",
    "    model = Model(inputs, outputs)\n",
    "    model.compile(optimizer='adam', loss='binary_crossentropy', metrics=['accuracy'])\n",
    "    \n",
    "    return model"
   ]
  },
  {
   "cell_type": "markdown",
   "metadata": {},
   "source": [
    "This function simulates a federated learning process where a global model is trained using data from multiple clients. The model is first trained on a global dataset, and then fine-tuned using smaller datasets from individual clients. The function also considers the use of gradient compression, which helps reduce the amount of data that needs to be communicated during training. After fine-tuning, the model's performance is evaluated on the global data to determine its accuracy and other metrics. The results include various performance metrics, such as training time, fine-tuning time, and overall accuracy.\n"
   ]
  },
  {
   "cell_type": "code",
   "execution_count": null,
   "metadata": {},
   "outputs": [],
   "source": [
    "# Federated Learning with and without Gradient Compression\n",
    "def federated_learning(global_data, client1_data, client2_data, use_gradient_compression):\n",
    "\n",
    "    \"\"\"_summary_\n",
    "\n",
    "    Returns:\n",
    "        _type_: _description_\n",
    "    \"\"\"\n",
    "    results = {}\n",
    "    \n",
    "    # Prepare global data\n",
    "    print(\"Preparing global data...\")\n",
    "    X_global, y_global = prepare_features_and_labels(global_data)\n",
    "    X_global, y_global = balance_and_sample(X_global, y_global, sample_fraction=0.4)\n",
    "    X_global = X_global[:, np.newaxis, :]\n",
    "    \n",
    "    # Prepare client data\n",
    "    print(\"Preparing client data...\")\n",
    "    X_client1, y_client1 = prepare_features_and_labels(client1_data)\n",
    "    X_client2, y_client2 = prepare_features_and_labels(client2_data)\n",
    "    X_client1, y_client1 = balance_and_sample(X_client1, y_client1, sample_fraction=0.4)\n",
    "    X_client2, y_client2 = balance_and_sample(X_client2, y_client2, sample_fraction=0.4)\n",
    "    X_client1 = X_client1[:, np.newaxis, :]\n",
    "    X_client2 = X_client2[:, np.newaxis, :]\n",
    "    \n",
    "    # Create and train global model\n",
    "    print(\"Creating and training global model...\")\n",
    "    model = create_cnn_lstm_attention_model(input_shape=(X_global.shape[1], X_global.shape[2]))\n",
    "    _, train_time_global = measure_communication_time(model.fit, X_global, y_global, epochs=10, batch_size=32, verbose=2)\n",
    "    print(f\"Time to train global model: {train_time_global:.2f} seconds.\")\n",
    "    \n",
    "    # Fine-tune model on client data\n",
    "    client_data = [\n",
    "        (X_client1, y_client1, \"Client 1\"),\n",
    "        (X_client2, y_client2, \"Client 2\")\n",
    "    ]\n",
    "    \n",
    "    print(\"Fine-tuning model on client data...\")\n",
    "    for X_client, y_client, client_name in tqdm(client_data, desc=\"Clients\", unit=\"client\"):\n",
    "        print(f\"Fine-tuning on {client_name}...\")\n",
    "        \n",
    "        def train_func():\n",
    "            model.fit(X_client, y_client, epochs=5, batch_size=32, verbose=2)\n",
    "        \n",
    "        _, update_time = measure_communication_time(train_func)\n",
    "        print(f\"Time to fine-tune on {client_name}: {update_time:.2f} seconds.\")\n",
    "        \n",
    "        # Compress gradients and simulate communication if required\n",
    "        if use_gradient_compression:\n",
    "            # Assuming a function to apply gradient compression to model weights/gradients\n",
    "            compressed_gradients = compress_gradients(model.get_weights())\n",
    "            # Apply the compressed gradients to the model (This part is a simulation)\n",
    "            model.set_weights([tf.convert_to_tensor(g) for g in compressed_gradients])\n",
    "    \n",
    "    # Evaluate the updated global model\n",
    "    print(\"Evaluating the updated global model...\")\n",
    "    start_time = time.time()\n",
    "    y_global_pred = (model.predict(X_global) > 0.5).astype(int)\n",
    "    report = classification_report(y_global, y_global_pred, output_dict=True)\n",
    "    accuracy = accuracy_score(y_global, y_global_pred)\n",
    "    elapsed_time = time.time() - start_time\n",
    "    \n",
    "    print(\"Model Classification Report:\")\n",
    "    print(report)\n",
    "    print(\"Model Accuracy Score:\", accuracy)\n",
    "    print(f\"Model evaluation completed in {elapsed_time:.2f} seconds.\")\n",
    "    \n",
    "    results['accuracy'] = accuracy\n",
    "    results['classification_report'] = report\n",
    "    results['training_time'] = train_time_global\n",
    "    results['fine_tuning_time'] = update_time\n",
    "    results['evaluation_time'] = elapsed_time\n",
    "    \n",
    "    return results"
   ]
  },
  {
   "cell_type": "code",
   "execution_count": null,
   "metadata": {},
   "outputs": [],
   "source": [
    "# Measure communication time\n",
    "def measure_communication_time(func, *args, **kwargs):\n",
    "    \"\"\"Measure the time taken for a function to execute.\"\"\"\n",
    "    start_time = time.time()\n",
    "    result = func(*args, **kwargs)\n",
    "    elapsed_time = time.time() - start_time\n",
    "    return result, elapsed_time"
   ]
  },
  {
   "cell_type": "code",
   "execution_count": 4,
   "metadata": {},
   "outputs": [
    {
     "name": "stdout",
     "output_type": "stream",
     "text": [
      "Preparing global data...\n",
      "Preparing client data...\n",
      "Creating and training global model...\n",
      "Epoch 1/10\n",
      "5145/5145 - 23s - 4ms/step - accuracy: 0.9733 - loss: 0.0650\n",
      "Epoch 2/10\n",
      "5145/5145 - 18s - 3ms/step - accuracy: 0.9745 - loss: 0.0458\n",
      "Epoch 3/10\n",
      "5145/5145 - 18s - 4ms/step - accuracy: 0.9841 - loss: 0.0356\n",
      "Epoch 4/10\n",
      "5145/5145 - 18s - 4ms/step - accuracy: 0.9897 - loss: 0.0278\n",
      "Epoch 5/10\n",
      "5145/5145 - 18s - 4ms/step - accuracy: 0.9910 - loss: 0.0251\n",
      "Epoch 6/10\n",
      "5145/5145 - 18s - 3ms/step - accuracy: 0.9908 - loss: 0.0256\n",
      "Epoch 7/10\n",
      "5145/5145 - 18s - 3ms/step - accuracy: 0.9907 - loss: 0.0251\n",
      "Epoch 8/10\n",
      "5145/5145 - 18s - 3ms/step - accuracy: 0.9904 - loss: 0.0253\n",
      "Epoch 9/10\n",
      "5145/5145 - 18s - 3ms/step - accuracy: 0.9908 - loss: 0.0250\n",
      "Epoch 10/10\n",
      "5145/5145 - 18s - 3ms/step - accuracy: 0.9920 - loss: 0.0224\n",
      "Time to train global model: 184.52 seconds.\n",
      "Fine-tuning model on client data...\n"
     ]
    },
    {
     "name": "stderr",
     "output_type": "stream",
     "text": [
      "Clients:   0%|          | 0/2 [00:00<?, ?client/s]"
     ]
    },
    {
     "name": "stdout",
     "output_type": "stream",
     "text": [
      "Fine-tuning on Client 1...\n",
      "Epoch 1/5\n",
      "2707/2707 - 9s - 3ms/step - accuracy: 0.9969 - loss: 0.0129\n",
      "Epoch 2/5\n",
      "2707/2707 - 10s - 4ms/step - accuracy: 0.9970 - loss: 0.0113\n",
      "Epoch 3/5\n",
      "2707/2707 - 11s - 4ms/step - accuracy: 0.9974 - loss: 0.0089\n",
      "Epoch 4/5\n",
      "2707/2707 - 11s - 4ms/step - accuracy: 0.9976 - loss: 0.0082\n",
      "Epoch 5/5\n",
      "2707/2707 - 11s - 4ms/step - accuracy: 0.9978 - loss: 0.0083\n"
     ]
    },
    {
     "name": "stderr",
     "output_type": "stream",
     "text": [
      "Clients:  50%|█████     | 1/2 [00:51<00:51, 51.93s/client]"
     ]
    },
    {
     "name": "stdout",
     "output_type": "stream",
     "text": [
      "Time to fine-tune on Client 1: 51.93 seconds.\n",
      "Fine-tuning on Client 2...\n",
      "Epoch 1/5\n",
      "2783/2783 - 12s - 4ms/step - accuracy: 0.9945 - loss: 0.0182\n",
      "Epoch 2/5\n",
      "2783/2783 - 11s - 4ms/step - accuracy: 0.9960 - loss: 0.0118\n",
      "Epoch 3/5\n",
      "2783/2783 - 10s - 4ms/step - accuracy: 0.9966 - loss: 0.0109\n",
      "Epoch 4/5\n",
      "2783/2783 - 9s - 3ms/step - accuracy: 0.9972 - loss: 0.0094\n",
      "Epoch 5/5\n",
      "2783/2783 - 9s - 3ms/step - accuracy: 0.9974 - loss: 0.0089\n"
     ]
    },
    {
     "name": "stderr",
     "output_type": "stream",
     "text": [
      "Clients: 100%|██████████| 2/2 [01:43<00:00, 51.88s/client]"
     ]
    },
    {
     "name": "stdout",
     "output_type": "stream",
     "text": [
      "Time to fine-tune on Client 2: 51.83 seconds.\n",
      "Evaluating the updated global model...\n"
     ]
    },
    {
     "name": "stderr",
     "output_type": "stream",
     "text": [
      "\n"
     ]
    },
    {
     "name": "stdout",
     "output_type": "stream",
     "text": [
      "\u001b[1m5145/5145\u001b[0m \u001b[32m━━━━━━━━━━━━━━━━━━━━\u001b[0m\u001b[37m\u001b[0m \u001b[1m10s\u001b[0m 2ms/step\n"
     ]
    },
    {
     "name": "stderr",
     "output_type": "stream",
     "text": [
      "c:\\Users\\nandi\\anaconda3\\Lib\\site-packages\\sklearn\\metrics\\_classification.py:1509: UndefinedMetricWarning: Precision is ill-defined and being set to 0.0 in labels with no predicted samples. Use `zero_division` parameter to control this behavior.\n",
      "  _warn_prf(average, modifier, f\"{metric.capitalize()} is\", len(result))\n",
      "c:\\Users\\nandi\\anaconda3\\Lib\\site-packages\\sklearn\\metrics\\_classification.py:1509: UndefinedMetricWarning: Precision is ill-defined and being set to 0.0 in labels with no predicted samples. Use `zero_division` parameter to control this behavior.\n",
      "  _warn_prf(average, modifier, f\"{metric.capitalize()} is\", len(result))\n",
      "c:\\Users\\nandi\\anaconda3\\Lib\\site-packages\\sklearn\\metrics\\_classification.py:1509: UndefinedMetricWarning: Precision is ill-defined and being set to 0.0 in labels with no predicted samples. Use `zero_division` parameter to control this behavior.\n",
      "  _warn_prf(average, modifier, f\"{metric.capitalize()} is\", len(result))\n"
     ]
    },
    {
     "name": "stdout",
     "output_type": "stream",
     "text": [
      "Model Classification Report:\n",
      "{'0': {'precision': 0.9733556887973611, 'recall': 1.0, 'f1-score': 0.9864979682305135, 'support': 160227.0}, '1': {'precision': 0.0, 'recall': 0.0, 'f1-score': 0.0, 'support': 4386.0}, 'accuracy': 0.9733556887973611, 'macro avg': {'precision': 0.48667784439868056, 'recall': 0.5, 'f1-score': 0.49324898411525675, 'support': 164613.0}, 'weighted avg': {'precision': 0.9474212969141853, 'recall': 0.9733556887973611, 'f1-score': 0.9602134093642087, 'support': 164613.0}}\n",
      "Model Accuracy Score: 0.9733556887973611\n",
      "Model evaluation completed in 11.96 seconds.\n",
      "Preparing global data...\n",
      "Preparing client data...\n",
      "Creating and training global model...\n",
      "Epoch 1/10\n",
      "5145/5145 - 25s - 5ms/step - accuracy: 0.9733 - loss: 0.0644\n",
      "Epoch 2/10\n",
      "5145/5145 - 19s - 4ms/step - accuracy: 0.9734 - loss: 0.0503\n",
      "Epoch 3/10\n",
      "5145/5145 - 20s - 4ms/step - accuracy: 0.9734 - loss: 0.0493\n",
      "Epoch 4/10\n",
      "5145/5145 - 20s - 4ms/step - accuracy: 0.9778 - loss: 0.0436\n",
      "Epoch 5/10\n",
      "5145/5145 - 19s - 4ms/step - accuracy: 0.9852 - loss: 0.0343\n",
      "Epoch 6/10\n",
      "5145/5145 - 19s - 4ms/step - accuracy: 0.9884 - loss: 0.0297\n",
      "Epoch 7/10\n",
      "5145/5145 - 19s - 4ms/step - accuracy: 0.9889 - loss: 0.0282\n",
      "Epoch 8/10\n",
      "5145/5145 - 20s - 4ms/step - accuracy: 0.9909 - loss: 0.0246\n",
      "Epoch 9/10\n",
      "5145/5145 - 18s - 4ms/step - accuracy: 0.9910 - loss: 0.0240\n",
      "Epoch 10/10\n",
      "5145/5145 - 17s - 3ms/step - accuracy: 0.9916 - loss: 0.0229\n",
      "Time to train global model: 196.51 seconds.\n",
      "Fine-tuning model on client data...\n"
     ]
    },
    {
     "name": "stderr",
     "output_type": "stream",
     "text": [
      "Clients:   0%|          | 0/2 [00:00<?, ?client/s]"
     ]
    },
    {
     "name": "stdout",
     "output_type": "stream",
     "text": [
      "Fine-tuning on Client 1...\n",
      "Epoch 1/5\n",
      "2707/2707 - 10s - 4ms/step - accuracy: 0.9963 - loss: 0.0132\n",
      "Epoch 2/5\n",
      "2707/2707 - 9s - 3ms/step - accuracy: 0.9966 - loss: 0.0112\n",
      "Epoch 3/5\n",
      "2707/2707 - 9s - 3ms/step - accuracy: 0.9966 - loss: 0.0113\n",
      "Epoch 4/5\n",
      "2707/2707 - 9s - 3ms/step - accuracy: 0.9965 - loss: 0.0109\n",
      "Epoch 5/5\n",
      "2707/2707 - 10s - 4ms/step - accuracy: 0.9968 - loss: 0.0098\n"
     ]
    },
    {
     "name": "stderr",
     "output_type": "stream",
     "text": [
      "Clients:  50%|█████     | 1/2 [00:46<00:46, 46.66s/client]"
     ]
    },
    {
     "name": "stdout",
     "output_type": "stream",
     "text": [
      "Time to fine-tune on Client 1: 46.62 seconds.\n",
      "Fine-tuning on Client 2...\n",
      "Epoch 1/5\n",
      "2783/2783 - 9s - 3ms/step - accuracy: 0.9931 - loss: 0.0253\n",
      "Epoch 2/5\n",
      "2783/2783 - 9s - 3ms/step - accuracy: 0.9954 - loss: 0.0142\n",
      "Epoch 3/5\n",
      "2783/2783 - 10s - 4ms/step - accuracy: 0.9961 - loss: 0.0115\n",
      "Epoch 4/5\n",
      "2783/2783 - 9s - 3ms/step - accuracy: 0.9968 - loss: 0.0095\n",
      "Epoch 5/5\n",
      "2783/2783 - 12s - 4ms/step - accuracy: 0.9975 - loss: 0.0082\n"
     ]
    },
    {
     "name": "stderr",
     "output_type": "stream",
     "text": [
      "Clients: 100%|██████████| 2/2 [01:36<00:00, 48.36s/client]"
     ]
    },
    {
     "name": "stdout",
     "output_type": "stream",
     "text": [
      "Time to fine-tune on Client 2: 50.06 seconds.\n",
      "Evaluating the updated global model...\n"
     ]
    },
    {
     "name": "stderr",
     "output_type": "stream",
     "text": [
      "\n"
     ]
    },
    {
     "name": "stdout",
     "output_type": "stream",
     "text": [
      "\u001b[1m5145/5145\u001b[0m \u001b[32m━━━━━━━━━━━━━━━━━━━━\u001b[0m\u001b[37m\u001b[0m \u001b[1m11s\u001b[0m 2ms/step\n",
      "Model Classification Report:\n",
      "{'0': {'precision': 0.9997526759092595, 'recall': 0.9082239572606364, 'f1-score': 0.9517929264025378, 'support': 160227.0}, '1': {'precision': 0.22828653896615062, 'recall': 0.9917920656634747, 'f1-score': 0.37114457574335563, 'support': 4386.0}, 'accuracy': 0.9104505719475375, 'macro avg': {'precision': 0.6140196074377051, 'recall': 0.9500080114620555, 'f1-score': 0.6614687510729467, 'support': 164613.0}, 'weighted avg': {'precision': 0.9791974920742497, 'recall': 0.9104505719475375, 'f1-score': 0.9363219510482754, 'support': 164613.0}}\n",
      "Model Accuracy Score: 0.9104505719475375\n",
      "Model evaluation completed in 12.27 seconds.\n"
     ]
    }
   ],
   "source": [
    "# Main Code\n",
    "file_path = 'Metro-Both-Classes.csv'\n",
    "data = load_and_preprocess_data(file_path)\n",
    "global_data, client1_data, client2_data = preprocess_data(data)\n",
    "\n",
    "# Perform federated learning with and without gradient compression\n",
    "results_without_compression = federated_learning(global_data, client1_data, client2_data, use_gradient_compression=False)\n",
    "results_with_compression = federated_learning(global_data, client1_data, client2_data, use_gradient_compression=True)"
   ]
  },
  {
   "cell_type": "code",
   "execution_count": 8,
   "metadata": {},
   "outputs": [
    {
     "data": {
      "image/png": "[encoded data removed]",
      "text/plain": [
       "<Figure size 640x480 with 1 Axes>"
      ]
     },
     "metadata": {},
     "output_type": "display_data"
    }
   ],
   "source": [
    "# Plotting results\n",
    "def plot_results(results_without_compression, results_with_compression):\n",
    "    \"\"\"_summary_\n",
    "\n",
    "    Args:\n",
    "        results_without_compression (_type_): _description_\n",
    "        results_with_compression (_type_): _description_\n",
    "    \"\"\"\n",
    "    labels = ['Training Time', 'Fine-tuning Time']\n",
    "    without_compression = [\n",
    "     \n",
    "        results_without_compression['training_time'],\n",
    "        results_without_compression['fine_tuning_time'],\n",
    "        \n",
    "    ]\n",
    "    with_compression = [\n",
    "       \n",
    "        results_with_compression['training_time'],\n",
    "        results_with_compression['fine_tuning_time'],\n",
    "       \n",
    "    ]\n",
    "    \n",
    "    x = np.arange(len(labels))\n",
    "    width = 0.35\n",
    "    \n",
    "    fig, ax = plt.subplots()\n",
    "    bars1 = ax.bar(x - width/2, without_compression, width, label='Without Compression')\n",
    "    bars2 = ax.bar(x + width/2, with_compression, width, label='With Compression')\n",
    "    \n",
    "    ax.set_xlabel('Metrics')\n",
    "    ax.set_title('Comparison of Performance with and without Gradient Compression')\n",
    "    ax.set_xticks(x)\n",
    "    ax.set_xticklabels(labels)\n",
    "    ax.legend()\n",
    "    \n",
    "    fig.tight_layout()\n",
    "    plt.show()\n",
    "\n",
    "# Plot results\n",
    "plot_results(results_without_compression, results_with_compression)"
   ]
  }
 ],
 "metadata": {
  "kernelspec": {
   "display_name": "base",
   "language": "python",
   "name": "python3"
  },
  "language_info": {
   "codemirror_mode": {
    "name": "ipython",
    "version": 3
   },
   "file_extension": ".py",
   "mimetype": "text/x-python",
   "name": "python",
   "nbconvert_exporter": "python",
   "pygments_lexer": "ipython3",
   "version": "3.12.4"
  }
 },
 "nbformat": 4,
 "nbformat_minor": 2
}
