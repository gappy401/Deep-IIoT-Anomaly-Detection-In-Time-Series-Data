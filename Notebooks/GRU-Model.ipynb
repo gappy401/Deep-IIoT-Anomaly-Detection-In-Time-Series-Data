{
 "cells": [
  {
   "cell_type": "code",
   "execution_count": null,
   "metadata": {},
   "outputs": [],
   "source": [
    "import numpy as np\n",
    "import pandas as pd\n",
    "from tensorflow.keras.models import Model\n",
    "from tensorflow.keras.layers import Input, GRU, Dense, Dropout\n",
    "from tensorflow.keras.optimizers import Adam\n",
    "from sklearn.utils import shuffle\n",
    "from sklearn.metrics import classification_report, accuracy_score\n",
    "from tqdm import tqdm\n",
    "import time\n",
    "import tensorflow as tf \n",
    "import matplotlib.pyplot as plt\n",
    "from tensorflow.keras.losses import BinaryFocalCrossentropy\n",
    "\n",
    "def load_and_preprocess_data(file_path):\n",
    "    data = pd.read_csv(file_path)\n",
    "    data = data.dropna()  \n",
    "    return data\n",
    "\n",
    "def prepare_features_and_labels(data):\n",
    "    features = ['TP2', 'DV_pressure', 'Oil_temperature', 'Motor_current', 'DV_eletric', 'Towers', 'LPS', 'Oil_level', 'Caudal_impulses']\n",
    "    target = 'class'\n",
    "    X = data[features].values\n",
    "    y = data[target].values\n",
    "    return X, y\n"
   ]
  },
  {
   "cell_type": "code",
   "execution_count": null,
   "metadata": {},
   "outputs": [],
   "source": [
    "\n",
    "def balance_and_sample(X, y, sample_fraction=0.4):\n",
    "    X, y = shuffle(X, y, random_state=42)\n",
    "    sample_size = int(sample_fraction * len(X))\n",
    "    X_sample, y_sample = X[:sample_size], y[:sample_size]\n",
    "    \n",
    "    classes = np.unique(y_sample)\n",
    "    max_samples = max([np.sum(y_sample == cls) for cls in classes])\n",
    "    \n",
    "    X_balanced = []\n",
    "    y_balanced = []\n",
    "    \n",
    "    for cls in classes:\n",
    "        X_cls = X_sample[y_sample == cls]\n",
    "        y_cls = y_sample[y_sample == cls]\n",
    "        \n",
    "        X_balanced.append(X_cls[:max_samples])\n",
    "        y_balanced.append(y_cls[:max_samples])\n",
    "    \n",
    "    X_balanced = np.vstack(X_balanced)\n",
    "    y_balanced = np.hstack(y_balanced)\n",
    "    \n",
    "    return X_balanced, y_balanced\n",
    "\n",
    "def preprocess_data(data):\n",
    "    if 'timestamp' not in data.columns or 'class' not in data.columns:\n",
    "        raise ValueError(\"Data must contain 'timestamp' and 'class' columns.\")\n",
    "    \n",
    "    data['timestamp'] = pd.to_datetime(data['timestamp'], errors='coerce')\n",
    "    data = data.dropna(subset=['timestamp'])\n",
    "    data['month'] = data['timestamp'].dt.to_period('M')\n",
    "    months = data['month'].astype(str).unique()\n",
    "    \n",
    "    if len(months) < 4:\n",
    "        raise ValueError(\"Not enough distinct months to split into global and client data.\")\n",
    "    \n",
    "    months.sort()\n",
    "    first_two_months = months[:2]\n",
    "    last_two_months = months[-2:]\n",
    "    \n",
    "    global_data = data[data['month'].astype(str).isin(first_two_months)]\n",
    "    client1_data = data[data['month'].astype(str) == last_two_months[0]]\n",
    "    client2_data = data[data['month'].astype(str) == last_two_months[1]]\n",
    "    \n",
    "    if global_data.empty or client1_data.empty or client2_data.empty:\n",
    "        raise ValueError(\"One or more of the filtered datasets are empty.\")\n",
    "    \n",
    "    return global_data, client1_data, client2_data"
   ]
  },
  {
   "cell_type": "code",
   "execution_count": null,
   "metadata": {},
   "outputs": [],
   "source": [
    "def create_gru_model(input_shape):\n",
    "    inputs = Input(shape=input_shape)\n",
    "    x = GRU(128, return_sequences=True)(inputs)\n",
    "    x = Dropout(0.3)(x)\n",
    "    x = GRU(64, return_sequences=True)(x)\n",
    "    x = Dropout(0.3)(x)\n",
    "    x = GRU(32)(x)\n",
    "    x = Dense(64, activation='relu')(x)\n",
    "    x = Dropout(0.3)(x)\n",
    "    outputs = Dense(1, activation='sigmoid')(x)\n",
    "    \n",
    "    model = Model(inputs, outputs)\n",
    "    model.compile(optimizer='adam', loss=BinaryFocalCrossentropy(gamma=2.0), metrics=['accuracy'])\n",
    "    \n",
    "    return model\n",
    "\n",
    "def measure_communication_time(func, *args, **kwargs):\n",
    "    start_time = time.time()\n",
    "    result = func(*args, **kwargs)\n",
    "    elapsed_time = time.time() - start_time\n",
    "    return result, elapsed_time"
   ]
  },
  {
   "cell_type": "code",
   "execution_count": 12,
   "metadata": {},
   "outputs": [
    {
     "name": "stdout",
     "output_type": "stream",
     "text": [
      "Preparing global data...\n",
      "Preparing client data...\n",
      "Creating and training global model...\n",
      "Epoch 1/10\n",
      "5145/5145 - 27s - 5ms/step - accuracy: 0.9729 - loss: 0.0144\n",
      "Epoch 2/10\n",
      "5145/5145 - 20s - 4ms/step - accuracy: 0.9733 - loss: 0.0130\n",
      "Epoch 3/10\n",
      "5145/5145 - 17s - 3ms/step - accuracy: 0.9750 - loss: 0.0123\n",
      "Epoch 4/10\n",
      "5145/5145 - 16s - 3ms/step - accuracy: 0.9827 - loss: 0.0098\n",
      "Epoch 5/10\n",
      "5145/5145 - 16s - 3ms/step - accuracy: 0.9813 - loss: 0.0105\n",
      "Epoch 6/10\n",
      "5145/5145 - 18s - 3ms/step - accuracy: 0.9909 - loss: 0.0068\n",
      "Epoch 7/10\n",
      "5145/5145 - 19s - 4ms/step - accuracy: 0.9901 - loss: 0.0071\n",
      "Epoch 8/10\n",
      "5145/5145 - 18s - 4ms/step - accuracy: 0.9925 - loss: 0.0060\n",
      "Epoch 9/10\n",
      "5145/5145 - 17s - 3ms/step - accuracy: 0.9930 - loss: 0.0059\n",
      "Epoch 10/10\n",
      "5145/5145 - 17s - 3ms/step - accuracy: 0.9932 - loss: 0.0057\n",
      "Time to train global model: 185.11 seconds.\n",
      "Fine-tuning model on client data...\n"
     ]
    },
    {
     "name": "stderr",
     "output_type": "stream",
     "text": [
      "Clients:   0%|          | 0/2 [00:00<?, ?client/s]"
     ]
    },
    {
     "name": "stdout",
     "output_type": "stream",
     "text": [
      "Fine-tuning on Client 1...\n",
      "Epoch 1/5\n",
      "2707/2707 - 9s - 3ms/step - accuracy: 0.9970 - loss: 0.0031\n",
      "Epoch 2/5\n",
      "2707/2707 - 9s - 3ms/step - accuracy: 0.9970 - loss: 0.0027\n",
      "Epoch 3/5\n",
      "2707/2707 - 9s - 3ms/step - accuracy: 0.9975 - loss: 0.0023\n",
      "Epoch 4/5\n",
      "2707/2707 - 9s - 3ms/step - accuracy: 0.9973 - loss: 0.0023\n",
      "Epoch 5/5\n",
      "2707/2707 - 9s - 3ms/step - accuracy: 0.9975 - loss: 0.0022\n"
     ]
    },
    {
     "name": "stderr",
     "output_type": "stream",
     "text": [
      "Clients:  50%|█████     | 1/2 [00:45<00:45, 45.22s/client]"
     ]
    },
    {
     "name": "stdout",
     "output_type": "stream",
     "text": [
      "Time to fine-tune on Client 1: 45.22 seconds.\n",
      "Fine-tuning on Client 2...\n",
      "Epoch 1/5\n",
      "2783/2783 - 14s - 5ms/step - accuracy: 0.9948 - loss: 0.0042\n",
      "Epoch 2/5\n",
      "2783/2783 - 13s - 5ms/step - accuracy: 0.9973 - loss: 0.0026\n",
      "Epoch 3/5\n",
      "2783/2783 - 13s - 5ms/step - accuracy: 0.9982 - loss: 0.0020\n",
      "Epoch 4/5\n",
      "2783/2783 - 10s - 4ms/step - accuracy: 0.9983 - loss: 0.0019\n",
      "Epoch 5/5\n",
      "2783/2783 - 13s - 5ms/step - accuracy: 0.9982 - loss: 0.0018\n"
     ]
    },
    {
     "name": "stderr",
     "output_type": "stream",
     "text": [
      "Clients: 100%|██████████| 2/2 [01:49<00:00, 54.55s/client]"
     ]
    },
    {
     "name": "stdout",
     "output_type": "stream",
     "text": [
      "Time to fine-tune on Client 2: 63.88 seconds.\n",
      "Evaluating the updated global model...\n"
     ]
    },
    {
     "name": "stderr",
     "output_type": "stream",
     "text": [
      "\n"
     ]
    },
    {
     "name": "stdout",
     "output_type": "stream",
     "text": [
      "\u001b[1m5145/5145\u001b[0m \u001b[32m━━━━━━━━━━━━━━━━━━━━\u001b[0m\u001b[37m\u001b[0m \u001b[1m14s\u001b[0m 3ms/step\n",
      "Model Classification Report:\n",
      "              precision    recall  f1-score   support\n",
      "\n",
      "           0       0.97      1.00      0.99    160227\n",
      "           1       0.00      0.00      0.00      4386\n",
      "\n",
      "    accuracy                           0.97    164613\n",
      "   macro avg       0.49      0.50      0.49    164613\n",
      "weighted avg       0.95      0.97      0.96    164613\n",
      "\n",
      "Model Accuracy Score: 0.973203817438477\n",
      "Federated learning completed.\n"
     ]
    }
   ],
   "source": [
    "\n",
    "def federated_learning(global_data, client1_data, client2_data):\n",
    "    print(\"Preparing global data...\")\n",
    "    X_global, y_global = prepare_features_and_labels(global_data)\n",
    "    X_global, y_global = balance_and_sample(X_global, y_global, sample_fraction=0.4)\n",
    "    \n",
    "    print(\"Preparing client data...\")\n",
    "    X_client1, y_client1 = prepare_features_and_labels(client1_data)\n",
    "    X_client2, y_client2 = prepare_features_and_labels(client2_data)\n",
    "    X_client1, y_client1 = balance_and_sample(X_client1, y_client1, sample_fraction=0.4)\n",
    "    X_client2, y_client2 = balance_and_sample(X_client2, y_client2, sample_fraction=0.4)\n",
    "    \n",
    "    X_global = X_global[:, np.newaxis, :]\n",
    "    X_client1 = X_client1[:, np.newaxis, :]\n",
    "    X_client2 = X_client2[:, np.newaxis, :]\n",
    "    \n",
    "    print(\"Creating and training global model...\")\n",
    "    model = create_gru_model(input_shape=(X_global.shape[1], X_global.shape[2]))\n",
    "    _, train_time_global = measure_communication_time(model.fit, X_global, y_global, epochs=10, batch_size=32, verbose=2)\n",
    "    print(f\"Time to train global model: {train_time_global:.2f} seconds.\")\n",
    "    \n",
    "    client_data = [\n",
    "        (X_client1, y_client1, \"Client 1\"),\n",
    "        (X_client2, y_client2, \"Client 2\")\n",
    "    ]\n",
    "    \n",
    "    print(\"Fine-tuning model on client data...\")\n",
    "    for X_client, y_client, client_name in tqdm(client_data, desc=\"Clients\", unit=\"client\"):\n",
    "        print(f\"Fine-tuning on {client_name}...\")\n",
    "        \n",
    "        def train_func():\n",
    "            model.fit(X_client, y_client, epochs=5, batch_size=32, verbose=2)\n",
    "        \n",
    "        _, update_time = measure_communication_time(train_func)\n",
    "        print(f\"Time to fine-tune on {client_name}: {update_time:.2f} seconds.\")\n",
    "    \n",
    "    print(\"Evaluating the updated global model...\")\n",
    "    y_global_pred = (model.predict(X_global) > 0.5).astype(int)\n",
    "    print(\"Model Classification Report:\")\n",
    "    print(classification_report(y_global, y_global_pred))\n",
    "    print(\"Model Accuracy Score:\", accuracy_score(y_global, y_global_pred))\n",
    "    \n",
    "    print(\"Federated learning completed.\")\n",
    "    return train_time_global, update_time\n",
    "\n",
    "file_path = 'Metro-Both-Classes.csv'\n",
    "data = load_and_preprocess_data(file_path)\n",
    "global_data, client1_data, client2_data = preprocess_data(data)\n",
    "train_time_global_no_compression, update_time_no_compression = federated_learning(global_data, client1_data, client2_data)\n"
   ]
  },
  {
   "cell_type": "code",
   "execution_count": null,
   "metadata": {},
   "outputs": [],
   "source": [
    "def compress_gradients_sparsification(gradients, threshold=0.1):\n",
    "    compressed_gradients = []\n",
    "    for grad in gradients:\n",
    "        mask = tf.abs(grad) > threshold\n",
    "        compressed_gradients.append(tf.multiply(grad, tf.cast(mask, grad.dtype)))\n",
    "    return compressed_gradients\n"
   ]
  },
  {
   "cell_type": "code",
   "execution_count": 13,
   "metadata": {},
   "outputs": [
    {
     "name": "stdout",
     "output_type": "stream",
     "text": [
      "Preparing global data...\n",
      "Preparing client data...\n",
      "Creating and training global model...\n",
      "Epoch 1/10\n",
      "5145/5145 - 27s - 5ms/step - accuracy: 0.9731 - loss: 0.0143\n",
      "Epoch 2/10\n",
      "5145/5145 - 18s - 4ms/step - accuracy: 0.9733 - loss: 0.0132\n",
      "Epoch 3/10\n",
      "5145/5145 - 21s - 4ms/step - accuracy: 0.9734 - loss: 0.0129\n",
      "Epoch 4/10\n",
      "5145/5145 - 20s - 4ms/step - accuracy: 0.9832 - loss: 0.0097\n",
      "Epoch 5/10\n",
      "5145/5145 - 20s - 4ms/step - accuracy: 0.9902 - loss: 0.0073\n",
      "Epoch 6/10\n",
      "5145/5145 - 18s - 3ms/step - accuracy: 0.9903 - loss: 0.0072\n",
      "Epoch 7/10\n",
      "5145/5145 - 20s - 4ms/step - accuracy: 0.9927 - loss: 0.0062\n",
      "Epoch 8/10\n",
      "5145/5145 - 18s - 4ms/step - accuracy: 0.9917 - loss: 0.0064\n",
      "Epoch 9/10\n",
      "5145/5145 - 21s - 4ms/step - accuracy: 0.9929 - loss: 0.0059\n",
      "Epoch 10/10\n",
      "5145/5145 - 21s - 4ms/step - accuracy: 0.9937 - loss: 0.0055\n",
      "Time to train global model: 204.46 seconds.\n",
      "Fine-tuning model on client data with gradient compression...\n"
     ]
    },
    {
     "name": "stderr",
     "output_type": "stream",
     "text": [
      "Clients:   0%|          | 0/2 [00:00<?, ?client/s]"
     ]
    },
    {
     "name": "stdout",
     "output_type": "stream",
     "text": [
      "Fine-tuning on Client 1 with gradient compression...\n",
      "Epoch 1/5\n",
      "2707/2707 - 10s - 4ms/step - accuracy: 0.9968 - loss: 0.0033\n",
      "Epoch 2/5\n",
      "2707/2707 - 10s - 4ms/step - accuracy: 0.9973 - loss: 0.0026\n",
      "Epoch 3/5\n",
      "2707/2707 - 10s - 4ms/step - accuracy: 0.9973 - loss: 0.0024\n",
      "Epoch 4/5\n",
      "2707/2707 - 11s - 4ms/step - accuracy: 0.9976 - loss: 0.0023\n",
      "Epoch 5/5\n",
      "2707/2707 - 19s - 7ms/step - accuracy: 0.9984 - loss: 0.0017\n",
      "Time to fine-tune on Client 1: 60.48 seconds.\n",
      "Compressed gradients size for Client 1: 102209\n"
     ]
    },
    {
     "name": "stderr",
     "output_type": "stream",
     "text": [
      "Clients:  50%|█████     | 1/2 [01:06<01:06, 66.71s/client]"
     ]
    },
    {
     "name": "stdout",
     "output_type": "stream",
     "text": [
      "Fine-tuning on Client 2 with gradient compression...\n",
      "Epoch 1/5\n",
      "2783/2783 - 12s - 4ms/step - accuracy: 0.9917 - loss: 0.0191\n",
      "Epoch 2/5\n",
      "2783/2783 - 10s - 4ms/step - accuracy: 0.9943 - loss: 0.0042\n",
      "Epoch 3/5\n",
      "2783/2783 - 10s - 4ms/step - accuracy: 0.9964 - loss: 0.0030\n",
      "Epoch 4/5\n",
      "2783/2783 - 10s - 4ms/step - accuracy: 0.9968 - loss: 0.0028\n",
      "Epoch 5/5\n",
      "2783/2783 - 10s - 4ms/step - accuracy: 0.9971 - loss: 0.0026\n",
      "Time to fine-tune on Client 2: 52.62 seconds.\n"
     ]
    },
    {
     "name": "stderr",
     "output_type": "stream",
     "text": [
      "Clients: 100%|██████████| 2/2 [02:04<00:00, 62.14s/client]"
     ]
    },
    {
     "name": "stdout",
     "output_type": "stream",
     "text": [
      "Compressed gradients size for Client 2: 102209\n",
      "Evaluating the updated global model...\n"
     ]
    },
    {
     "name": "stderr",
     "output_type": "stream",
     "text": [
      "\n"
     ]
    },
    {
     "name": "stdout",
     "output_type": "stream",
     "text": [
      "\u001b[1m5145/5145\u001b[0m \u001b[32m━━━━━━━━━━━━━━━━━━━━\u001b[0m\u001b[37m\u001b[0m \u001b[1m14s\u001b[0m 2ms/step\n",
      "Model Classification Report:\n",
      "              precision    recall  f1-score   support\n",
      "\n",
      "           0       0.97      1.00      0.99    160227\n",
      "           1       0.62      0.03      0.05      4386\n",
      "\n",
      "    accuracy                           0.97    164613\n",
      "   macro avg       0.80      0.51      0.52    164613\n",
      "weighted avg       0.96      0.97      0.96    164613\n",
      "\n",
      "Model Accuracy Score: 0.9736229823889972\n",
      "Federated learning with gradient compression completed.\n"
     ]
    }
   ],
   "source": [
    "\n",
    "def federated_learning_with_compression(global_data, client1_data, client2_data):\n",
    "    print(\"Preparing global data...\")\n",
    "    X_global, y_global = prepare_features_and_labels(global_data)\n",
    "    X_global, y_global = balance_and_sample(X_global, y_global, sample_fraction=0.4)\n",
    "    \n",
    "    print(\"Preparing client data...\")\n",
    "    X_client1, y_client1 = prepare_features_and_labels(client1_data)\n",
    "    X_client2, y_client2 = prepare_features_and_labels(client2_data)\n",
    "    X_client1, y_client1 = balance_and_sample(X_client1, y_client1, sample_fraction=0.4)\n",
    "    X_client2, y_client2 = balance_and_sample(X_client2, y_client2, sample_fraction=0.4)\n",
    "    \n",
    "    X_global = X_global[:, np.newaxis, :]\n",
    "    X_client1 = X_client1[:, np.newaxis, :]\n",
    "    X_client2 = X_client2[:, np.newaxis, :]\n",
    "    \n",
    "    print(\"Creating and training global model...\")\n",
    "    model = create_gru_model(input_shape=(X_global.shape[1], X_global.shape[2]))\n",
    "    _, train_time_global = measure_communication_time(model.fit, X_global, y_global, epochs=10, batch_size=32, verbose=2)\n",
    "    print(f\"Time to train global model: {train_time_global:.2f} seconds.\")\n",
    "    \n",
    "    client_data = [\n",
    "        (X_client1, y_client1, \"Client 1\"),\n",
    "        (X_client2, y_client2, \"Client 2\")\n",
    "    ]\n",
    "    \n",
    "    print(\"Fine-tuning model on client data with gradient compression...\")\n",
    "    for X_client, y_client, client_name in tqdm(client_data, desc=\"Clients\", unit=\"client\"):\n",
    "        print(f\"Fine-tuning on {client_name} with gradient compression...\")\n",
    "        \n",
    "        def train_func():\n",
    "            model.fit(X_client, y_client, epochs=5, batch_size=32, verbose=2)\n",
    "        \n",
    "        _, update_time = measure_communication_time(train_func)\n",
    "        print(f\"Time to fine-tune on {client_name}: {update_time:.2f} seconds.\")\n",
    "        \n",
    "        with tf.GradientTape() as tape:\n",
    "            logits = model(X_client, training=True)\n",
    "            y_client = tf.reshape(y_client, (-1, 1))\n",
    "            loss = tf.keras.losses.binary_crossentropy(y_client, logits)\n",
    "        \n",
    "        gradients = tape.gradient(loss, model.trainable_variables)\n",
    "        compressed_gradients = compress_gradients_sparsification(gradients)\n",
    "        print(f\"Compressed gradients size for {client_name}: {sum([tf.size(g).numpy() for g in compressed_gradients])}\")\n",
    "        \n",
    "        model.optimizer.apply_gradients(zip(compressed_gradients, model.trainable_variables))\n",
    "    \n",
    "    print(\"Evaluating the updated global model...\")\n",
    "    y_global_pred = (model.predict(X_global) > 0.5).astype(int)\n",
    "    print(\"Model Classification Report:\")\n",
    "    print(classification_report(y_global, y_global_pred))\n",
    "    print(\"Model Accuracy Score:\", accuracy_score(y_global, y_global_pred))\n",
    "    \n",
    "    print(\"Federated learning with gradient compression completed.\")\n",
    "    return train_time_global, update_time\n",
    "\n",
    "train_time_global_compression, update_time_compression = federated_learning_with_compression(global_data, client1_data, client2_data)\n"
   ]
  },
  {
   "cell_type": "code",
   "execution_count": 14,
   "metadata": {},
   "outputs": [
    {
     "data": {
      "image/png": "[encoded data removed]",
      "text/plain": [
       "<Figure size 1000x600 with 1 Axes>"
      ]
     },
     "metadata": {},
     "output_type": "display_data"
    }
   ],
   "source": [
    "methods = [\"No Compression\", \"With Compression\"]\n",
    "train_times = [train_time_global_no_compression, train_time_global_compression]\n",
    "update_times = [update_time_no_compression, update_time_compression]\n",
    "\n",
    "plt.figure(figsize=(10, 6))\n",
    "plt.barh(methods, train_times, color=['blue', 'green'])\n",
    "plt.xlabel(\"Training Time (seconds)\")\n",
    "plt.ylabel(\"Method\")\n",
    "plt.title(\"Comparison of Federated Learning Training Times with and without Gradient Compression\")\n",
    "plt.show()\n",
    "\n"
   ]
  }
 ],
 "metadata": {
  "kernelspec": {
   "display_name": "base",
   "language": "python",
   "name": "python3"
  },
  "language_info": {
   "codemirror_mode": {
    "name": "ipython",
    "version": 3
   },
   "file_extension": ".py",
   "mimetype": "text/x-python",
   "name": "python",
   "nbconvert_exporter": "python",
   "pygments_lexer": "ipython3",
   "version": "3.12.4"
  }
 },
 "nbformat": 4,
 "nbformat_minor": 2
}
