{
 "cells": [
  {
   "cell_type": "code",
   "execution_count": null,
   "metadata": {},
   "outputs": [],
   "source": [
    "import numpy as np\n",
    "import pandas as pd\n",
    "from tensorflow.keras.models import Model\n",
    "from tensorflow.keras.layers import Input, Dense, Dropout\n",
    "from tensorflow.keras.optimizers import Adam\n",
    "from sklearn.utils import shuffle\n",
    "from sklearn.metrics import classification_report, accuracy_score\n",
    "from tqdm import tqdm\n",
    "import time\n",
    "import tensorflow as tf\n",
    "import matplotlib.pyplot as plt\n",
    "\n",
    "# Set seed for reproducibility\n",
    "np.random.seed(42)\n",
    "tf.random.set_seed(42)\n",
    "\n",
    "def load_and_preprocess_data(file_path):\n",
    "    data = pd.read_csv(file_path)\n",
    "    data = data.dropna()  \n",
    "    return data\n",
    "\n",
    "def prepare_features_and_labels(data):\n",
    "    features = ['TP2', 'DV_pressure', 'Oil_temperature', 'Motor_current', 'DV_eletric', 'Towers', 'LPS', 'Oil_level', 'Caudal_impulses']\n",
    "    target = 'class'\n",
    "    X = data[features].values\n",
    "    y = data[target].values\n",
    "    return X, y\n"
   ]
  },
  {
   "cell_type": "code",
   "execution_count": 21,
   "metadata": {},
   "outputs": [],
   "source": [
    "\n",
    "def balance_and_sample(X, y, sample_fraction=0.4):\n",
    "    \"\"\"Sample and balance classes.\"\"\"\n",
    "    X, y = shuffle(X, y, random_state=42)\n",
    "    sample_size = int(sample_fraction * len(X))\n",
    "    X_sample, y_sample = X[:sample_size], y[:sample_size]\n",
    "    \n",
    "    classes = np.unique(y_sample)\n",
    "    max_samples = max([np.sum(y_sample == cls) for cls in classes])\n",
    "    \n",
    "    X_balanced = []\n",
    "    y_balanced = []\n",
    "    \n",
    "    for cls in classes:\n",
    "        X_cls = X_sample[y_sample == cls]\n",
    "        y_cls = y_sample[y_sample == cls]\n",
    "        \n",
    "        X_balanced.append(X_cls[:max_samples])\n",
    "        y_balanced.append(y_cls[:max_samples])\n",
    "    \n",
    "    X_balanced = np.vstack(X_balanced)\n",
    "    y_balanced = np.hstack(y_balanced)\n",
    "    \n",
    "    return X_balanced, y_balanced\n",
    "\n",
    "def preprocess_data(data):\n",
    "    if 'timestamp' not in data.columns or 'class' not in data.columns:\n",
    "        raise ValueError(\"Data must contain 'timestamp' and 'class' columns.\")\n",
    "    \n",
    "    data['timestamp'] = pd.to_datetime(data['timestamp'], errors='coerce')\n",
    "    data = data.dropna(subset=['timestamp'])\n",
    "    data['month'] = data['timestamp'].dt.to_period('M')\n",
    "    months = data['month'].astype(str).unique()\n",
    "    \n",
    "    if len(months) < 4:\n",
    "        raise ValueError(\"Not enough distinct months to split into global and client data.\")\n",
    "    \n",
    "    months.sort()\n",
    "    first_two_months = months[:2]\n",
    "    last_two_months = months[-2:]\n",
    "    \n",
    "    global_data = data[data['month'].astype(str).isin(first_two_months)]\n",
    "    client1_data = data[data['month'].astype(str) == last_two_months[0]]\n",
    "    client2_data = data[data['month'].astype(str) == last_two_months[1]]\n",
    "    \n",
    "    if global_data.empty or client1_data.empty or client2_data.empty:\n",
    "        raise ValueError(\"One or more of the filtered datasets are empty.\")\n",
    "    \n",
    "    return global_data, client1_data, client2_data\n"
   ]
  },
  {
   "cell_type": "code",
   "execution_count": 22,
   "metadata": {},
   "outputs": [],
   "source": [
    "def create_sae_model(input_shape):\n",
    "    \"\"\"Create a Stacked Autoencoder (SAE) model.\"\"\"\n",
    "    inputs = Input(shape=input_shape)\n",
    "    x = Dense(128, activation='tanh')(inputs)\n",
    "    x = Dropout(0.3)(x)\n",
    "    x = Dense(64, activation='tanh')(x)\n",
    "    x = Dropout(0.3)(x)\n",
    "    x = Dense(32, activation='relu')(x)\n",
    "    x = Dropout(0.3)(x)\n",
    "    x = Dense(64, activation='relu')(x)\n",
    "    x = Dense(128, activation='relu')(x)\n",
    "    outputs = Dense(1, activation='sigmoid')(x)\n",
    "    \n",
    "    model = Model(inputs, outputs)\n",
    "    model.compile(optimizer='adam', loss='binary_crossentropy', metrics=['accuracy'])\n",
    "    \n",
    "    return model\n"
   ]
  },
  {
   "cell_type": "code",
   "execution_count": 23,
   "metadata": {},
   "outputs": [],
   "source": [
    "def compress_gradients_sparsification(gradients, sparsification_rate=99):\n",
    "    \"\"\"Apply gradient compression with sparsification.\n",
    "    \n",
    "    Arguments:\n",
    "    gradients -- List of gradients to be compressed.\n",
    "    sparsification_rate -- Percentage of gradients to be sparsified (default 99).\n",
    "    \n",
    "    Returns:\n",
    "    compressed_gradients -- List of sparsified gradients.\n",
    "    \"\"\"\n",
    "    compressed_gradients = []\n",
    "    for grad in gradients:\n",
    "        threshold = np.percentile(tf.abs(grad).numpy(), sparsification_rate)\n",
    "        grad = tf.where(tf.abs(grad) > threshold, grad, tf.zeros_like(grad))\n",
    "        compressed_gradients.append(grad)\n",
    "    return compressed_gradients\n",
    "\n"
   ]
  },
  {
   "cell_type": "code",
   "execution_count": null,
   "metadata": {},
   "outputs": [],
   "source": [
    "def measure_communication_time(func, *args, **kwargs):\n",
    "    start_time = time.time()\n",
    "    result = func(*args, **kwargs)\n",
    "    elapsed_time = time.time() - start_time\n",
    "    return result, elapsed_time\n"
   ]
  },
  {
   "cell_type": "code",
   "execution_count": 24,
   "metadata": {},
   "outputs": [],
   "source": [
    "\n",
    "def federated_learning(global_data, client1_data, client2_data, compression=False):\n",
    "    X_global, y_global = prepare_features_and_labels(global_data)\n",
    "    X_global, y_global = balance_and_sample(X_global, y_global, sample_fraction=0.4)\n",
    "    \n",
    "    X_client1, y_client1 = prepare_features_and_labels(client1_data)\n",
    "    X_client2, y_client2 = prepare_features_and_labels(client2_data)\n",
    "    X_client1, y_client1 = balance_and_sample(X_client1, y_client1, sample_fraction=0.4)\n",
    "    X_client2, y_client2 = balance_and_sample(X_client2, y_client2, sample_fraction=0.4)\n",
    "    \n",
    "    model = create_sae_model(input_shape=(X_global.shape[1],))\n",
    "    _, train_time_global = measure_communication_time(model.fit, X_global, y_global, epochs=10, batch_size=32, verbose=0)\n",
    "    \n",
    "    client_data = [(X_client1, y_client1, \"Client 1\"), (X_client2, y_client2, \"Client 2\")]\n",
    "    communication_times = []\n",
    "    \n",
    "    for X_client, y_client, client_name in tqdm(client_data, desc=\"Clients\", unit=\"client\"):\n",
    "        def train_func():\n",
    "            model.fit(X_client, y_client, epochs=5, batch_size=32, verbose=0)\n",
    "        \n",
    "        _, update_time = measure_communication_time(train_func)\n",
    "        communication_times.append(update_time)\n",
    "        \n",
    "        with tf.GradientTape() as tape:\n",
    "            logits = model(X_client, training=True)\n",
    "            y_client = tf.reshape(y_client, (-1, 1))\n",
    "            loss = tf.keras.losses.binary_crossentropy(y_client, logits)\n",
    "        \n",
    "        gradients = tape.gradient(loss, model.trainable_variables)\n",
    "        \n",
    "        if compression:\n",
    "            gradients = compress_gradients_sparsification(gradients)\n",
    "    \n",
    "    y_global_pred = (model.predict(X_global) > 0.5).astype(int)\n",
    "    accuracy = accuracy_score(y_global, y_global_pred)\n",
    "    \n",
    "    return np.mean(communication_times), accuracy\n"
   ]
  },
  {
   "cell_type": "code",
   "execution_count": 25,
   "metadata": {},
   "outputs": [
    {
     "name": "stderr",
     "output_type": "stream",
     "text": [
      "Clients: 100%|██████████| 2/2 [00:44<00:00, 22.19s/client]"
     ]
    },
    {
     "name": "stdout",
     "output_type": "stream",
     "text": [
      "\u001b[1m  47/5145\u001b[0m \u001b[37m━━━━━━━━━━━━━━━━━━━━\u001b[0m \u001b[1m5s\u001b[0m 1ms/step   "
     ]
    },
    {
     "name": "stderr",
     "output_type": "stream",
     "text": [
      "\n"
     ]
    },
    {
     "name": "stdout",
     "output_type": "stream",
     "text": [
      "\u001b[1m5145/5145\u001b[0m \u001b[32m━━━━━━━━━━━━━━━━━━━━\u001b[0m\u001b[37m\u001b[0m \u001b[1m5s\u001b[0m 947us/step\n"
     ]
    },
    {
     "name": "stderr",
     "output_type": "stream",
     "text": [
      "Clients: 100%|██████████| 2/2 [00:41<00:00, 20.92s/client]"
     ]
    },
    {
     "name": "stdout",
     "output_type": "stream",
     "text": [
      "\u001b[1m  48/5145\u001b[0m \u001b[37m━━━━━━━━━━━━━━━━━━━━\u001b[0m \u001b[1m5s\u001b[0m 1ms/step   "
     ]
    },
    {
     "name": "stderr",
     "output_type": "stream",
     "text": [
      "\n"
     ]
    },
    {
     "name": "stdout",
     "output_type": "stream",
     "text": [
      "\u001b[1m5145/5145\u001b[0m \u001b[32m━━━━━━━━━━━━━━━━━━━━\u001b[0m\u001b[37m\u001b[0m \u001b[1m5s\u001b[0m 961us/step\n"
     ]
    }
   ],
   "source": [
    "file_path = 'Metro-Both-Classes.csv'\n",
    "data = load_and_preprocess_data(file_path)\n",
    "global_data, client1_data, client2_data = preprocess_data(data)\n",
    "\n",
    "# Run without gradient compression\n",
    "comm_time_no_compression, accuracy_no_compression = federated_learning(global_data, client1_data, client2_data, compression=False)\n",
    "\n",
    "# Run with gradient compression\n",
    "comm_time_compression, accuracy_compression = federated_learning(global_data, client1_data, client2_data, compression=True)\n"
   ]
  },
  {
   "cell_type": "code",
   "execution_count": 26,
   "metadata": {},
   "outputs": [
    {
     "data": {
      "image/png": "[encoded data removed]",
      "text/plain": [
       "<Figure size 640x480 with 2 Axes>"
      ]
     },
     "metadata": {},
     "output_type": "display_data"
    }
   ],
   "source": [
    "# Plot the results\n",
    "labels = ['No Compression', 'With Compression']\n",
    "communication_times = [comm_time_no_compression, comm_time_compression]\n",
    "accuracies = [accuracy_no_compression, accuracy_compression]\n",
    "\n",
    "fig, ax1 = plt.subplots()\n",
    "\n",
    "color = 'tab:green'\n",
    "ax1.set_xlabel('Configuration')\n",
    "ax1.set_ylabel('Communication Time (s)', color=color)\n",
    "ax1.bar(labels, communication_times, color=color, alpha=0.6)\n",
    "ax1.tick_params(axis='y', labelcolor=color)\n",
    "\n",
    "ax2 = ax1.twinx()  \n",
    "color = 'tab:red'\n",
    "ax2.set_ylabel('Accuracy', color=color)\n",
    "ax2.plot(labels, accuracies, color=color, marker='o')\n",
    "ax2.tick_params(axis='y', labelcolor=color)\n",
    "\n",
    "fig.tight_layout()\n",
    "plt.title(\"Federated Learning: SAE Model with and without Gradient Compression\")\n",
    "plt.show()\n"
   ]
  }
 ],
 "metadata": {
  "kernelspec": {
   "display_name": "base",
   "language": "python",
   "name": "python3"
  },
  "language_info": {
   "codemirror_mode": {
    "name": "ipython",
    "version": 3
   },
   "file_extension": ".py",
   "mimetype": "text/x-python",
   "name": "python",
   "nbconvert_exporter": "python",
   "pygments_lexer": "ipython3",
   "version": "3.12.4"
  }
 },
 "nbformat": 4,
 "nbformat_minor": 2
}
